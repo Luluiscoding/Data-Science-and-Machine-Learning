{
 "cells": [
  {
   "attachments": {},
   "cell_type": "markdown",
   "metadata": {},
   "source": [
    "****\n",
    "\n",
    "**Outline**\n",
    "- K-means institution\n",
    "- K-means Algorithm\n",
    "- Optimization Objective\n",
    "- Initializing K-means\n",
    "- Choosing the number of clusters\n",
    "****"
   ]
  },
  {
   "attachments": {},
   "cell_type": "markdown",
   "metadata": {},
   "source": [
    "## K-means institution\n",
    "\n",
    "plot a data set with 30 unlabeled training examples. So there are 30 points.  \n",
    "<img src=\"image/kmc1.png\" width=\"300\">  \n",
    "The first thing that the K-means algorithm does is it will take a random guess at where might be the centers of the two clusters that you might ask it to find. That is the blue corss and red cross.  \n",
    "<img src=\"image/kmc2.png\" width=\"300\">   \n",
    "Step 1: Assign each point to its closest centroid.   \n",
    "<img src=\"image/kmc3.png\" width=\"300\">  \n",
    "Step 2: Assign each point to its closest centroid.   \n",
    "<img src=\"image/kmc4.png\" width=\"300\">  \n",
    "Then repeat the above steps, reassign points and recompute the centroid. The centroid will move everytime, finally, it will generate clusters.   \n",
    "<img src=\"image/kmc5.png\" width=\"300\">  \n"
   ]
  },
  {
   "attachments": {},
   "cell_type": "markdown",
   "metadata": {},
   "source": [
    "## K-means Algorithm\n",
    "Randomly initialize K cluster centroids ($\\mu_1, \\mu_2,\\cdots, \\mu_K$)  \n",
    "\n",
    "Repeat{  \n",
    "$\\quad \\quad$ **# Assign points to cluster centroids**  \n",
    "$\\quad \\quad$ for i=1 to m  \n",
    "$\\quad \\quad$ $c^{(i)}=min_k||x^{(i)}-\\mu_k||^2$  \n",
    "$\\quad \\quad$ **# move cluster centroids**  \n",
    "$\\quad \\quad$ for k=1 to K  \n",
    "$\\quad \\quad$ $\\mu_k$ = average of points assigned to cluster k  \n",
    "}\n"
   ]
  },
  {
   "attachments": {},
   "cell_type": "markdown",
   "metadata": {},
   "source": [
    "## Optimization Objective\n",
    "$c^{(i)}=$ index of cluster $(1,2, \\ldots, K)$ to which example $x^{(i)}$ is currently assigned  \n",
    "$\\mu_k=$ cluster centroid $k$  \n",
    "$\\mu_{c^{(i)}}=$ cluster centroid of cluster to which example $x^{(i)}$ has been assigned  \n"
   ]
  },
  {
   "attachments": {},
   "cell_type": "markdown",
   "metadata": {},
   "source": [
    "## Initializing K-means\n",
    "  \n",
    "$J\\left(c^{(1)}, \\ldots, c^{(m)}, \\mu_1, \\ldots, \\mu_K\\right)=\\frac{1}{m} \\sum_{i=1}^m\\left\\|x^{(i)}-\\mu_{c^{(i)}}\\right\\|^2$  \n",
    "\n",
    "<img src=\"image/initialize.png\" width=\"500\">  \n",
    "\n",
    "  \n",
    "Pick set of clusters that give lowest cost $J$."
   ]
  },
  {
   "attachments": {},
   "cell_type": "markdown",
   "metadata": {},
   "source": [
    "## Choosing the number of clusters\n",
    "\n",
    "**Elbow method**\n",
    "\n",
    "<img src=\"image/elbow method.png\" width=\"300\">  \n",
    "\n",
    "It has a clear \"elbow\", which means after this point, the cost decrease fast. But most of time, the cost decrease smoothly, do not have a clear \"elbow\".  "
   ]
  }
 ],
 "metadata": {
  "language_info": {
   "name": "python"
  },
  "orig_nbformat": 4
 },
 "nbformat": 4,
 "nbformat_minor": 2
}
