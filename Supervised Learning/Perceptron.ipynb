{
 "cells": [
  {
   "attachments": {},
   "cell_type": "markdown",
   "metadata": {},
   "source": [
    "****\n",
    "**Table of Content**\n",
    "  \n",
    "- *Perceptron Definiton*\n",
    "- *Perceptron Code Implementation*\n",
    "\n",
    "****"
   ]
  },
  {
   "attachments": {},
   "cell_type": "markdown",
   "metadata": {},
   "source": [
    "## Perceptron Definition\n",
    "\n",
    " Perceptron is a type of supervised learning algorithm for **binary classification** tasks where the goal is to learn a decision boundary that can separate two classes of data.  \n",
    "   \n",
    " In the perceptron algorithm, the input features are multiplied by corresponding weights, and the weighted sum is passed through an activation function (usually a step function) to produce a binary output. The weights are adjusted during training using a form of stochastic gradient descent to minimize the classification error.  \n",
    "\n",
    "<img src=\"image/ThePerceptronImage.png\" width=\"500\">"
   ]
  },
  {
   "attachments": {},
   "cell_type": "markdown",
   "metadata": {},
   "source": [
    "In the above picture, $x_1^{(i)},x_2^{(i)}$ are input features. $w_1, w_2$ are weights.  \n",
    "Activation functions are an essential component of deep neural networks that are used to introduce non-linearity into the network, enabling it to model complex relationships between inputs and outputs.  \n",
    "- **pre-activation function:** It is a type of activation function that is applied before the activation function. In a neural network, the pre-activation function is typically a **linear transformation** that combines the input features with learnable weights and biases. The output of the pre-activation function is then passed through the activation function to introduce non-linearity.  \n",
    "- **activation function:** It is a mathematical function that is applied to the output of each neuron in a neural network to introduce **non-linearity**. Activation functions include commonly used functions like sigmoid, ReLU, tanh, and softmax.  \n",
    "- **post activation function:** It is a type of activation function that is applied after the activation function. In a neural network, the post-activation function is typically a transformation that acts on the output of the activation function. For example, in a convolutional neural network(CNN), the output of the ReLU activation function is often passed through a pooling or normalization layer.  \n",
    "\n",
    "\n",
    "The perceptron algorithm was one of the earliest forms of artificial neural networks and has paved the way for more complex neural network architectures used in deep learning today."
   ]
  },
  {
   "attachments": {},
   "cell_type": "markdown",
   "metadata": {},
   "source": [
    "## Perceptron Code Implementation\n",
    "\n",
    "### Packages and Dataset"
   ]
  },
  {
   "cell_type": "code",
   "execution_count": 21,
   "metadata": {},
   "outputs": [],
   "source": [
    "import matplotlib.pyplot as plt\n",
    "import numpy as np \n",
    "import pandas as pd \n",
    "import seaborn as sns"
   ]
  },
  {
   "cell_type": "code",
   "execution_count": 2,
   "metadata": {},
   "outputs": [],
   "source": [
    "iris = pd.read_csv(\"https://raw.githubusercontent.com/RandyRDavila/Data_Science_and_Machine_Learning_Spring_2022/main/Lecture_2/Datasets/iris_dataset.csv\") "
   ]
  },
  {
   "attachments": {},
   "cell_type": "markdown",
   "metadata": {},
   "source": [
    "### Data Overview"
   ]
  },
  {
   "cell_type": "code",
   "execution_count": 3,
   "metadata": {},
   "outputs": [
    {
     "data": {
      "text/html": [
       "<div>\n",
       "<style scoped>\n",
       "    .dataframe tbody tr th:only-of-type {\n",
       "        vertical-align: middle;\n",
       "    }\n",
       "\n",
       "    .dataframe tbody tr th {\n",
       "        vertical-align: top;\n",
       "    }\n",
       "\n",
       "    .dataframe thead th {\n",
       "        text-align: right;\n",
       "    }\n",
       "</style>\n",
       "<table border=\"1\" class=\"dataframe\">\n",
       "  <thead>\n",
       "    <tr style=\"text-align: right;\">\n",
       "      <th></th>\n",
       "      <th>sepal_length</th>\n",
       "      <th>sepal_width</th>\n",
       "      <th>petal_length</th>\n",
       "      <th>petal_width</th>\n",
       "      <th>species</th>\n",
       "    </tr>\n",
       "  </thead>\n",
       "  <tbody>\n",
       "    <tr>\n",
       "      <th>0</th>\n",
       "      <td>5.1</td>\n",
       "      <td>3.5</td>\n",
       "      <td>1.4</td>\n",
       "      <td>0.2</td>\n",
       "      <td>setosa</td>\n",
       "    </tr>\n",
       "    <tr>\n",
       "      <th>1</th>\n",
       "      <td>4.9</td>\n",
       "      <td>3.0</td>\n",
       "      <td>1.4</td>\n",
       "      <td>0.2</td>\n",
       "      <td>setosa</td>\n",
       "    </tr>\n",
       "    <tr>\n",
       "      <th>2</th>\n",
       "      <td>4.7</td>\n",
       "      <td>3.2</td>\n",
       "      <td>1.3</td>\n",
       "      <td>0.2</td>\n",
       "      <td>setosa</td>\n",
       "    </tr>\n",
       "    <tr>\n",
       "      <th>3</th>\n",
       "      <td>4.6</td>\n",
       "      <td>3.1</td>\n",
       "      <td>1.5</td>\n",
       "      <td>0.2</td>\n",
       "      <td>setosa</td>\n",
       "    </tr>\n",
       "    <tr>\n",
       "      <th>4</th>\n",
       "      <td>5.0</td>\n",
       "      <td>3.6</td>\n",
       "      <td>1.4</td>\n",
       "      <td>0.2</td>\n",
       "      <td>setosa</td>\n",
       "    </tr>\n",
       "  </tbody>\n",
       "</table>\n",
       "</div>"
      ],
      "text/plain": [
       "   sepal_length  sepal_width  petal_length  petal_width species\n",
       "0           5.1          3.5           1.4          0.2  setosa\n",
       "1           4.9          3.0           1.4          0.2  setosa\n",
       "2           4.7          3.2           1.3          0.2  setosa\n",
       "3           4.6          3.1           1.5          0.2  setosa\n",
       "4           5.0          3.6           1.4          0.2  setosa"
      ]
     },
     "execution_count": 3,
     "metadata": {},
     "output_type": "execute_result"
    }
   ],
   "source": [
    "iris.head(5)"
   ]
  },
  {
   "attachments": {},
   "cell_type": "markdown",
   "metadata": {},
   "source": [
    "Map \"setosa\" species to -1 and \"versicolor\" species to 1."
   ]
  },
  {
   "cell_type": "code",
   "execution_count": 4,
   "metadata": {},
   "outputs": [
    {
     "name": "stdout",
     "output_type": "stream",
     "text": [
      "y.shape = (100,)\n",
      "X.shape = (100, 2)\n"
     ]
    }
   ],
   "source": [
    "# Extract the data we need \n",
    "\n",
    "y = iris.iloc[0:100].species.values # get the first 100 rows of the species column\n",
    "y = np.where(y == 'setosa', -1, 1) # if the species is setosa, then -1, else 1\n",
    "X = iris[['sepal_length', 'petal_length']].iloc[0:100].values # get the first 100 rows of the sepal_length and petal_length columns\n",
    "\n",
    "print(f\"{y.shape = }\")\n",
    "print(f\"{X.shape = }\")"
   ]
  },
  {
   "cell_type": "code",
   "execution_count": 13,
   "metadata": {},
   "outputs": [],
   "source": [
    "# Establish Model\n",
    "\n",
    "import numpy as np\n",
    "\n",
    "class Perceptron:\n",
    "    def __init__(self, learning_rate=0.1, num_iterations=100):\n",
    "        self.learning_rate = learning_rate\n",
    "        self.num_iterations = num_iterations\n",
    "        self.weights = None \n",
    "        self.bias = None\n",
    "    \n",
    "    def train(self, X, y):\n",
    "        n_samples, n_features = X.shape\n",
    "        \n",
    "        # initialize weights and bias to zeros\n",
    "        self.weights = np.zeros(n_features)\n",
    "        self.bias = 0\n",
    "        \n",
    "        # iterate over the data for num_iterations\n",
    "        for _ in range(self.num_iterations):\n",
    "            for i in range(n_samples):\n",
    "                # calculate the prediction\n",
    "                linear_output = np.dot(self.weights, X[i]) + self.bias\n",
    "                y_predicted = self._activate(linear_output)\n",
    "                \n",
    "                # update the weights and bias if prediction is incorrect\n",
    "                if y_predicted != y[i]:\n",
    "                    update = self.learning_rate * (y[i] - y_predicted)\n",
    "                    self.weights += update * X[i]\n",
    "                    self.bias += update\n",
    "    \n",
    "    def predict(self, X):\n",
    "        linear_output = np.dot(X, self.weights) + self.bias\n",
    "        y_predicted = self._activate(linear_output)\n",
    "        return y_predicted\n",
    "    \n",
    "    def _activate(self, linear_output):\n",
    "        return np.where(linear_output >= 0, 1, -1)\n"
   ]
  },
  {
   "cell_type": "code",
   "execution_count": 14,
   "metadata": {},
   "outputs": [
    {
     "name": "stdout",
     "output_type": "stream",
     "text": [
      "[-1 -1]\n"
     ]
    }
   ],
   "source": [
    "# create a dataset\n",
    "X = np.array([[2, 4], [4, 2], [1, 1], [5, 5]])\n",
    "y = np.array([1, 1, -1, -1])\n",
    "\n",
    "# create an instance of the Perceptron class and train it\n",
    "model = Perceptron(learning_rate=0.1, num_iterations=100)\n",
    "model.train(X, y)\n",
    "\n",
    "# make predictions on new data\n",
    "X_new = np.array([[3, 3], [6, 6]])\n",
    "y_pred = model.predict(X_new)\n",
    "print(y_pred)  # output: [-1, -1]\n"
   ]
  },
  {
   "cell_type": "code",
   "execution_count": 17,
   "metadata": {},
   "outputs": [],
   "source": [
    "y = iris.iloc[0:100].species.values # get the first 100 rows of the species column\n",
    "y = np.where(y == 'setosa', -1, 1) # if the species is setosa, then -1, else 1\n",
    "X = iris[['sepal_length', 'petal_length']].iloc[0:100].values # get the first 100 rows of the sepal_length and petal_length columns\n",
    "# Instantiate one instance of the Perceptron class\n",
    "clf = Perceptron(num_iterations = 100)\n",
    "\n",
    "# Call the train method to train the weights and bias of the given instance\n",
    "clf.train(X, y)"
   ]
  },
  {
   "cell_type": "code",
   "execution_count": 18,
   "metadata": {},
   "outputs": [
    {
     "name": "stdout",
     "output_type": "stream",
     "text": [
      "[ True  True  True  True  True  True  True  True  True  True  True  True\n",
      "  True  True  True  True  True  True  True  True  True  True  True  True\n",
      "  True  True  True  True  True  True  True  True  True  True  True  True\n",
      "  True  True  True  True  True  True  True  True  True  True  True  True\n",
      "  True  True  True  True  True  True  True  True  True  True  True  True\n",
      "  True  True  True  True  True  True  True  True  True  True  True  True\n",
      "  True  True  True  True  True  True  True  True  True  True  True  True\n",
      "  True  True  True  True  True  True  True  True  True  True  True  True\n",
      "  True  True  True  True]\n"
     ]
    }
   ],
   "source": [
    "# Predict labels on the features in X\n",
    "y_hat = clf.predict(X)\n",
    "\n",
    "# Compare y_hat and y\n",
    "print(y == y_hat)"
   ]
  },
  {
   "cell_type": "code",
   "execution_count": 28,
   "metadata": {},
   "outputs": [
    {
     "data": {
      "image/png": "[encoded data removed]",
      "text/plain": [
       "<Figure size 1000x800 with 1 Axes>"
      ]
     },
     "metadata": {},
     "output_type": "display_data"
    }
   ],
   "source": [
    "import mlxtend\n",
    "from mlxtend.plotting import plot_decision_regions\n",
    "plt.figure(figsize = (10, 8))\n",
    "plot_decision_regions(X, y, clf = clf)\n",
    "plt.title(\"My First Perceptron\", fontsize = 18)\n",
    "plt.xlabel(\"sepal length [cm]\", fontsize = 15)\n",
    "plt.ylabel(\"petal length [cm]\", fontsize = 15)\n",
    "plt.show()"
   ]
  }
 ],
 "metadata": {
  "kernelspec": {
   "display_name": "Python 3",
   "language": "python",
   "name": "python3"
  },
  "language_info": {
   "codemirror_mode": {
    "name": "ipython",
    "version": 3
   },
   "file_extension": ".py",
   "mimetype": "text/x-python",
   "name": "python",
   "nbconvert_exporter": "python",
   "pygments_lexer": "ipython3",
   "version": "3.10.9"
  },
  "orig_nbformat": 4
 },
 "nbformat": 4,
 "nbformat_minor": 2
}
