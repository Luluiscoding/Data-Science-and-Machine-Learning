{
 "cells": [
  {
   "attachments": {},
   "cell_type": "markdown",
   "metadata": {},
   "source": [
    "****\n",
    "\n",
    "**Outline**\n",
    "- PCA Algorithm\n",
    "\n",
    "****"
   ]
  },
  {
   "attachments": {},
   "cell_type": "markdown",
   "metadata": {},
   "source": [
    "## PCA algorithm\n",
    "\n",
    "Assume we have a dataset like this:\n",
    "\n",
    "<img src=\"image/PCA1.png\" width=\"300\">  \n",
    "\n",
    "There are two axis: $x_1, x_2$. For the point we choose, $x_1=10, x_2=8$.  \n",
    "\n",
    "So, can we choose a different axis? The first thing we should know is that we have to make it normalized to have zero mean. If the features take on very different scales, then we need to do feature scaling before applying PCA.  "
   ]
  },
  {
   "attachments": {},
   "cell_type": "markdown",
   "metadata": {},
   "source": [
    "When establish another axis, ask yourself what character is captured by this new axis.  \n",
    "\n",
    "For example, if we take new axis like this:  \n",
    "\n",
    "<img src=\"image/z1.png\" width=\"300\">   \n",
    "\n",
    "Then it captures the value of each point using a line segment that is at 90 degree.   \n",
    "\n",
    "If we choose an axis like this:  \n",
    "<img src=\"image/z2.png\" width=\"300\">   \n",
    "It is an good choice. It captures a lot of variation.   \n",
    "\n",
    "Although the axis we choose above looks really like linear regression, we should notice that **PCA is not linear regression**."
   ]
  }
 ],
 "metadata": {
  "kernelspec": {
   "display_name": "base",
   "language": "python",
   "name": "python3"
  },
  "language_info": {
   "codemirror_mode": {
    "name": "ipython",
    "version": 3
   },
   "file_extension": ".py",
   "mimetype": "text/x-python",
   "name": "python",
   "nbconvert_exporter": "python",
   "pygments_lexer": "ipython3",
   "version": "3.10.9"
  },
  "orig_nbformat": 4
 },
 "nbformat": 4,
 "nbformat_minor": 2
}
